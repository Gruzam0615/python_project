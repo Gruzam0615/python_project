{
 "cells": [
  {
   "cell_type": "code",
   "execution_count": 1,
   "id": "4928e2fb-c5e6-4fd0-9844-8b5629868198",
   "metadata": {},
   "outputs": [],
   "source": [
    "# SSH connect Using python"
   ]
  },
  {
   "cell_type": "code",
   "execution_count": 2,
   "id": "19405459-a3b0-46f2-a8c1-7b6e259cdf04",
   "metadata": {},
   "outputs": [],
   "source": [
    "import paramiko\n",
    "import time"
   ]
  },
  {
   "cell_type": "code",
   "execution_count": 3,
   "id": "db4b7ca0-5aad-4629-b5e3-4deeee7156e7",
   "metadata": {},
   "outputs": [],
   "source": [
    "hostname = \"192.168.56.1\"\n",
    "port = 22\n",
    "username = \"admin\"\n",
    "password = \"1234\""
   ]
  },
  {
   "cell_type": "code",
   "execution_count": 8,
   "id": "249994d6-042a-4089-8561-6093e5ac8555",
   "metadata": {},
   "outputs": [],
   "source": [
    "usercmd = \"ps -a\""
   ]
  },
  {
   "cell_type": "code",
   "execution_count": 17,
   "id": "c955cbd7-d94f-4f23-bb93-1772436a2146",
   "metadata": {},
   "outputs": [
    {
     "name": "stdout",
     "output_type": "stream",
     "text": [
      "192.168.56.1 Connect success\n",
      "stdout:\n",
      "     PID TTY          TIME CMD\n",
      "   1177 tty1     00:00:00 bash\n",
      "\n",
      "stderr:\n",
      " \n",
      "Connect close\n"
     ]
    }
   ],
   "source": [
    "try:\n",
    "    ssh_client = paramiko.SSHClient()\n",
    "\n",
    "    # Host Key Policy setting\n",
    "    ssh_client.set_missing_host_key_policy(paramiko.AutoAddPolicy())\n",
    "\n",
    "    ssh_client.connect(hostname, port, username, password)\n",
    "    print(f\"{hostname} Connect success\")\n",
    "\n",
    "    stdin, stdout, stderr = ssh_client.exec_command(usercmd)\n",
    "\n",
    "    print(\"stdout:\\n\",stdout.read().decode())\n",
    "    print(\"stderr:\\n\",stderr.read().decode())\n",
    "\n",
    "    ssh_client.close()\n",
    "    print(\"Connect close\")\n",
    "\n",
    "except paramiko.AuthenticationException:\n",
    "    print(\"Authentication Fail: Check username and password\")\n",
    "except paramiko.SSHException as e:\n",
    "    print(f\"SSH Fail: {e}\")\n",
    "except Exception as e:\n",
    "    print(f\"Error: {e}\")"
   ]
  },
  {
   "cell_type": "code",
   "execution_count": null,
   "id": "c16ad710-8ce3-428d-bd1c-e330568491a0",
   "metadata": {},
   "outputs": [],
   "source": []
  }
 ],
 "metadata": {
  "kernelspec": {
   "display_name": "Python 3 (ipykernel)",
   "language": "python",
   "name": "python3"
  },
  "language_info": {
   "codemirror_mode": {
    "name": "ipython",
    "version": 3
   },
   "file_extension": ".py",
   "mimetype": "text/x-python",
   "name": "python",
   "nbconvert_exporter": "python",
   "pygments_lexer": "ipython3",
   "version": "3.12.7"
  }
 },
 "nbformat": 4,
 "nbformat_minor": 5
}
