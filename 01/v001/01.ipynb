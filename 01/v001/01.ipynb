{
 "cells": [
  {
   "cell_type": "code",
   "execution_count": 1,
   "id": "e8cbc51d-3a43-402d-8526-40f12d9496d4",
   "metadata": {},
   "outputs": [],
   "source": [
    "#  1. 엑셀을 파일을 입력받아 엑셀의 데이터를 JSON 리스트 형태로 변환"
   ]
  },
  {
   "cell_type": "code",
   "execution_count": 2,
   "id": "038bab83-f95a-4a71-a438-6d526f4fb9f7",
   "metadata": {},
   "outputs": [],
   "source": [
    "import pandas as pd"
   ]
  },
  {
   "cell_type": "code",
   "execution_count": 3,
   "id": "b443a27b-8380-41eb-8dea-b025586e27de",
   "metadata": {},
   "outputs": [],
   "source": [
    "df = pd.read_excel(\"./설치 확인 목록.xlsx\")"
   ]
  },
  {
   "cell_type": "code",
   "execution_count": 4,
   "id": "b2f83feb-7bb6-49a2-a263-f5a737a669c1",
   "metadata": {},
   "outputs": [
    {
     "name": "stdout",
     "output_type": "stream",
     "text": [
      "  Servername            ip      os\n",
      "0     test01  192.168.10.2  RedHat\n",
      "1     test02  192.168.10.3  RedHat\n",
      "2     test03  192.168.10.4  RedHat\n",
      "3     test04  192.168.10.5  RedHat\n",
      "4     test05  192.168.10.6  RedHat\n",
      "\n",
      "\n"
     ]
    }
   ],
   "source": [
    "print(df.head())\n",
    "print(\"\\n\")"
   ]
  },
  {
   "cell_type": "code",
   "execution_count": 5,
   "id": "1399774b-d3b5-43c0-9a58-2b8255f534f9",
   "metadata": {},
   "outputs": [
    {
     "name": "stdout",
     "output_type": "stream",
     "text": [
      "Servername          test03\n",
      "ip            192.168.10.4\n",
      "os                  RedHat\n",
      "Name: 2, dtype: object\n",
      "\n",
      "\n",
      "192.168.10.4\n",
      "\n",
      "\n",
      "Servername          test01\n",
      "ip            192.168.10.2\n",
      "os                  RedHat\n",
      "Name: 0, dtype: object\n"
     ]
    }
   ],
   "source": [
    "print(df.iloc[2])\n",
    "print(\"\\n\")\n",
    "print(df.iloc[2].get(\"ip\"))\n",
    "print(\"\\n\")\n",
    "print((df.loc[0]))"
   ]
  },
  {
   "cell_type": "code",
   "execution_count": 31,
   "id": "5baea252-f808-42e1-bd9c-00d013ba3313",
   "metadata": {},
   "outputs": [
    {
     "name": "stdout",
     "output_type": "stream",
     "text": [
      "Index(['Servername', 'ip', 'os'], dtype='object')\n",
      "Servername\n"
     ]
    }
   ],
   "source": [
    "dataColumns = df.columns\n",
    "print(dataColumns)\n",
    "print(dataColumns[0])"
   ]
  },
  {
   "cell_type": "code",
   "execution_count": 11,
   "id": "4d76d5e8-80ff-4716-84ce-132260564164",
   "metadata": {},
   "outputs": [
    {
     "name": "stdout",
     "output_type": "stream",
     "text": [
      "1251\n",
      "417\n"
     ]
    }
   ],
   "source": [
    "#print(df.size) # Multiply(columns, rows)\n",
    "# print(len(df)) # rows count"
   ]
  },
  {
   "cell_type": "code",
   "execution_count": 6,
   "id": "b2f2d668-b681-4f38-980c-20e7bf21e1bb",
   "metadata": {},
   "outputs": [],
   "source": [
    "listData = []"
   ]
  },
  {
   "cell_type": "code",
   "execution_count": 12,
   "id": "90854af3-6ca7-4b4c-8e75-2e26c25d9749",
   "metadata": {},
   "outputs": [],
   "source": [
    "for i in range(len(df)):\n",
    "    listData.append(df.loc[i])\n",
    "    "
   ]
  },
  {
   "cell_type": "code",
   "execution_count": 13,
   "id": "c0ba5354-6b10-4da0-8d37-92ac8a373946",
   "metadata": {},
   "outputs": [
    {
     "name": "stdout",
     "output_type": "stream",
     "text": [
      "Servername           test11\n",
      "ip            192.168.10.12\n",
      "os                   RedHat\n",
      "Name: 10, dtype: object\n"
     ]
    }
   ],
   "source": [
    "print(listData[10])"
   ]
  }
 ],
 "metadata": {
  "kernelspec": {
   "display_name": "Python 3 (ipykernel)",
   "language": "python",
   "name": "python3"
  },
  "language_info": {
   "codemirror_mode": {
    "name": "ipython",
    "version": 3
   },
   "file_extension": ".py",
   "mimetype": "text/x-python",
   "name": "python",
   "nbconvert_exporter": "python",
   "pygments_lexer": "ipython3",
   "version": "3.12.7"
  }
 },
 "nbformat": 4,
 "nbformat_minor": 5
}
