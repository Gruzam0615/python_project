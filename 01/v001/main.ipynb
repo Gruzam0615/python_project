{
 "cells": [
  {
   "cell_type": "code",
   "execution_count": 1,
   "id": "1cae34e0-606e-4002-b7bf-bd06ae34c9bd",
   "metadata": {},
   "outputs": [],
   "source": [
    "import pandas as pd\n",
    "\n",
    "import paramiko\n",
    "import time"
   ]
  },
  {
   "cell_type": "code",
   "execution_count": 2,
   "id": "22621c26-2f67-4171-8065-94c532277f84",
   "metadata": {},
   "outputs": [],
   "source": [
    "df = pd.read_excel(\"../설치 확인 목록.xlsx\")\n",
    "\n",
    "def Step1(dataframe):\n",
    "    listData = []\n",
    "    for i in range(len(dataframe)):\n",
    "        listData.append(dataframe.loc[i])\n",
    "\n",
    "    return listData\n",
    "\n",
    "serverData = Step1(df)"
   ]
  },
  {
   "cell_type": "code",
   "execution_count": 3,
   "id": "7beec653-2242-4775-8aa6-c2f9be5df256",
   "metadata": {},
   "outputs": [],
   "source": [
    "def Step2(serverData, inputCommand):\n",
    "    sshClient = paramiko.SSHClient()\n",
    "    sshClient.set_missing_host_key_policy(paramiko.AutoAddPolicy())\n",
    "    result = []\n",
    "    \n",
    "    for x in range(3):\n",
    "           try:\n",
    "               sshClient.connect(serverData[x].ip, 22, \"admin\", \"1234\")\n",
    "               print(f\"{serverData[x].ip} connection Success\\n\")\n",
    "               stdin, stdout, stderr = sshClient.exec_command(inputCommand)\n",
    "               # print(\"stdout:\\n\",stdout.read().decode())\n",
    "               result.append(serverData[x].ip + \"\\n\" + stdout.read().decode())\n",
    "               print(\"stderr:\\n\",stderr.read().decode())          \n",
    "               \n",
    "               sshClient.close()\n",
    "               print(f\"{serverData[x].ip} connection Close\\n\")\n",
    "               \n",
    "           except paramiko.AuthenticationException:\n",
    "                print(\"Authentication Fail: Check username and password\")\n",
    "           except paramiko.SSHException as e:\n",
    "               print(f\"SSH Fail: {e}\")\n",
    "           except Exception as e:\n",
    "               print(f\"FailConnect: {serverData[x].ip}\\nError: {e}\")\n",
    "\n",
    "    return result"
   ]
  },
  {
   "cell_type": "code",
   "execution_count": 4,
   "id": "9fc62726-0880-4c28-af97-33c082e110e8",
   "metadata": {},
   "outputs": [
    {
     "name": "stdout",
     "output_type": "stream",
     "text": [
      "192.168.56.1 connection Success\n",
      "\n",
      "stderr:\n",
      " \n",
      "192.168.56.1 connection Close\n",
      "\n",
      "192.168.56.1 connection Success\n",
      "\n",
      "stderr:\n",
      " \n",
      "192.168.56.1 connection Close\n",
      "\n",
      "192.168.56.1 connection Success\n",
      "\n",
      "stderr:\n",
      " \n",
      "192.168.56.1 connection Close\n",
      "\n"
     ]
    }
   ],
   "source": [
    "data = Step2(serverData, \"ps -a\")"
   ]
  },
  {
   "cell_type": "code",
   "execution_count": 5,
   "id": "33c38a73-354c-465a-a74a-98201f1ad01e",
   "metadata": {},
   "outputs": [],
   "source": [
    "with open(\"./log/result.txt\", \"w\") as f:\n",
    "    for item in data:\n",
    "        f.write(str(item) + \"\\n\")"
   ]
  }
 ],
 "metadata": {
  "kernelspec": {
   "display_name": "Python 3 (ipykernel)",
   "language": "python",
   "name": "python3"
  },
  "language_info": {
   "codemirror_mode": {
    "name": "ipython",
    "version": 3
   },
   "file_extension": ".py",
   "mimetype": "text/x-python",
   "name": "python",
   "nbconvert_exporter": "python",
   "pygments_lexer": "ipython3",
   "version": "3.12.7"
  }
 },
 "nbformat": 4,
 "nbformat_minor": 5
}
