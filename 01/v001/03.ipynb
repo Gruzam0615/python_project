{
 "cells": [
  {
   "cell_type": "code",
   "execution_count": 1,
   "id": "116a0263-610c-452a-a701-933e0a7d936e",
   "metadata": {},
   "outputs": [],
   "source": [
    "# Save JSON data to the file"
   ]
  },
  {
   "cell_type": "code",
   "execution_count": 3,
   "id": "56b4e0d8-d3a1-4148-9b0c-67364ba200b1",
   "metadata": {},
   "outputs": [],
   "source": [
    "outputText = \"\"\"\n",
    "    PID TTY          TIME CMD\n",
    "   1177 tty1     00:00:00 bash\n",
    "   \"\"\""
   ]
  },
  {
   "cell_type": "code",
   "execution_count": 4,
   "id": "6ecefc67-a79a-4c35-9c74-1154f95a995e",
   "metadata": {},
   "outputs": [],
   "source": [
    "with open(\"test1.txt\", \"w\") as f:\n",
    "    f.write(outputText)"
   ]
  },
  {
   "cell_type": "code",
   "execution_count": null,
   "id": "bdf9d4dd-4ebe-4e6d-8ac0-266f6ddaff40",
   "metadata": {},
   "outputs": [],
   "source": []
  }
 ],
 "metadata": {
  "kernelspec": {
   "display_name": "Python 3 (ipykernel)",
   "language": "python",
   "name": "python3"
  },
  "language_info": {
   "codemirror_mode": {
    "name": "ipython",
    "version": 3
   },
   "file_extension": ".py",
   "mimetype": "text/x-python",
   "name": "python",
   "nbconvert_exporter": "python",
   "pygments_lexer": "ipython3",
   "version": "3.12.7"
  }
 },
 "nbformat": 4,
 "nbformat_minor": 5
}
